{
 "cells": [
  {
   "cell_type": "code",
   "execution_count": null,
   "id": "6927de16-d982-457b-914e-bf88783841ce",
   "metadata": {},
   "outputs": [
    {
     "name": "stdout",
     "output_type": "stream",
     "text": [
      "Requirement already satisfied: pandas in c:\\users\\usuario\\anaconda3\\lib\\site-packages (2.2.2)\n",
      "Requirement already satisfied: numpy>=1.23.2 in c:\\users\\usuario\\anaconda3\\lib\\site-packages (from pandas) (1.26.4)\n",
      "Requirement already satisfied: python-dateutil>=2.8.2 in c:\\users\\usuario\\anaconda3\\lib\\site-packages (from pandas) (2.9.0.post0)\n",
      "Requirement already satisfied: pytz>=2020.1 in c:\\users\\usuario\\anaconda3\\lib\\site-packages (from pandas) (2024.1)\n",
      "Requirement already satisfied: tzdata>=2022.7 in c:\\users\\usuario\\anaconda3\\lib\\site-packages (from pandas) (2023.3)\n",
      "Requirement already satisfied: six>=1.5 in c:\\users\\usuario\\anaconda3\\lib\\site-packages (from python-dateutil>=2.8.2->pandas) (1.16.0)\n"
     ]
    }
   ],
   "source": [
    "!pip install pandas"
   ]
  },
  {
   "cell_type": "code",
   "execution_count": 4,
   "id": "87918b05-aa40-4473-98c3-4d9b98b3f29d",
   "metadata": {},
   "outputs": [
    {
     "name": "stdout",
     "output_type": "stream",
     "text": [
      "             elec_pres_1            elec_pres_2 zona_u_r     region  \\\n",
      "0          GABRIEL BORIC          GABRIEL BORIC   URBANA  Región 13   \n",
      "1  NO SABE / NO CONTESTA  NO SABE / NO CONTESTA   URBANA   Región 8   \n",
      "2  NO SABE / NO CONTESTA  NO SABE / NO CONTESTA   URBANA   Región 8   \n",
      "3  NO SABE / NO CONTESTA       SEBASTIAN SICHEL   URBANA   Región 6   \n",
      "4  NO SABE / NO CONTESTA  NO SABE / NO CONTESTA   URBANA   Región 8   \n",
      "\n",
      "                  bienestar_2 bienestar_3                    percepcion_1_a  \\\n",
      "0  10.- Totalmente satisfecho           8  3.- DELINCUENCIA, ASALTOS, ROBOS   \n",
      "1  10.- Totalmente satisfecho           5  3.- DELINCUENCIA, ASALTOS, ROBOS   \n",
      "2                           6           6                     1.- PENSIONES   \n",
      "3                           5           4  3.- DELINCUENCIA, ASALTOS, ROBOS   \n",
      "4                           7           6          25 Pandemia por COVID-19   \n",
      "\n",
      "   percepcion_1_b    percepcion_1_c           percepcion_2  ...  \\\n",
      "0      6.- EMPLEO      11.- SUELDOS  3. - NI BUENA NI MALA  ...   \n",
      "1      10.- SALUD  9.- NARCOTRÁFICO              2. - MALA  ...   \n",
      "2      6.- EMPLEO      11.- SUELDOS  3. - NI BUENA NI MALA  ...   \n",
      "3  2.- CORRUPCIÓN     5.- EDUCACIÓN         5. - MUY BUENA  ...   \n",
      "4   1.- PENSIONES        6.- EMPLEO             4. - BUENA  ...   \n",
      "\n",
      "               religion_2 info_enc_58          info_enc_30  \\\n",
      "0               8.- NUNCA      2.- No                  NaN   \n",
      "1               8.- NUNCA      1.- Si         5. - MAPUCHE   \n",
      "2               8.- NUNCA      1.- Si  8. - YÁMANA (YAGÁN)   \n",
      "3  88.- No sabe (no leer)      2.- No                  NaN   \n",
      "4               8.- NUNCA      2.- No                  NaN   \n",
      "\n",
      "                                      bienestar_21          info_enc_59  \\\n",
      "0  2.- Les alcanza justo, sin grandes dificultades  En otro País ¿Cuál?   \n",
      "1  2.- Les alcanza justo, sin grandes dificultades             En Chile   \n",
      "2  2.- Les alcanza justo, sin grandes dificultades             En Chile   \n",
      "3  2.- Les alcanza justo, sin grandes dificultades             En Chile   \n",
      "4  2.- Les alcanza justo, sin grandes dificultades             En Chile   \n",
      "\n",
      "                 info_enc_54      gse      pond estrato   secu  \n",
      "0  999.- No sabe ( no leer )  2. - C2  1.555111      19  85139  \n",
      "1                        NaN   4. - D  1.791049      12  85076  \n",
      "2                        NaN   4. - D  1.984017      12  85085  \n",
      "3                        NaN  3. - C3  0.958918       8  85057  \n",
      "4                        NaN   4. - D  1.833506      12  85071  \n",
      "\n",
      "[5 rows x 113 columns]\n"
     ]
    }
   ],
   "source": [
    "import pandas as pd\n",
    "\n",
    "# Ubicación del dataset en el repositorio de GitHb\n",
    "url = 'https://raw.githubusercontent.com/lfot/Py_DDS_trabajo_final/main/data/base_85.csv'\n",
    "\n",
    "# Considerando que al abrir el archivo en notepad, se determinó que el delimitadosr es \";\"\n",
    "# Por ello se carga el archivo CSV en un \"df\" usando el delimitador \";\"\n",
    "df = pd.read_csv(url, sep=';')\n",
    "\n",
    "# Se presentan las primeras filas del \"df\" para verificar que se haya cargado correctamente\n",
    "print(df.head())"
   ]
  },
  {
   "cell_type": "code",
   "execution_count": null,
   "id": "a21b29bb-9ba7-422c-aac2-0df147bb624f",
   "metadata": {},
   "outputs": [],
   "source": []
  }
 ],
 "metadata": {
  "kernelspec": {
   "display_name": "pyds_proyecto_final (Python 3.12)",
   "language": "python",
   "name": "pyds_proyecto_final"
  },
  "language_info": {
   "codemirror_mode": {
    "name": "ipython",
    "version": 3
   },
   "file_extension": ".py",
   "mimetype": "text/x-python",
   "name": "python",
   "nbconvert_exporter": "python",
   "pygments_lexer": "ipython3",
   "version": "3.12.4"
  }
 },
 "nbformat": 4,
 "nbformat_minor": 5
}
