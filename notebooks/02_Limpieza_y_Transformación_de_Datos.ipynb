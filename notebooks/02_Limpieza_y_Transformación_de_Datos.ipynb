{
 "cells": [
  {
   "cell_type": "code",
   "execution_count": 4,
   "id": "ca468514-a808-4e46-85eb-794af994ded1",
   "metadata": {},
   "outputs": [],
   "source": [
    "import pandas as pd\n",
    "url = 'https://raw.githubusercontent.com/lfot/Py_DDS_trabajo_final/main/data/base_85.csv'\n",
    "df = pd.read_csv(url, sep=';')"
   ]
  },
  {
   "cell_type": "markdown",
   "id": "55c4b635-b281-44da-8b9a-2ed791589346",
   "metadata": {},
   "source": [
    "**Se realizará un análisis de algunas variables asociadas al plebiscito (de entrada) por una nueva consitución (25 de octubre de 2020), considerando variables sociodemográficas y otras vinculadas a opiniones de carácter ideológico, político y social.**"
   ]
  },
  {
   "cell_type": "markdown",
   "id": "d97c7128-d448-4e7d-8089-247ced6c2e33",
   "metadata": {},
   "source": [
    "**Plan de Análisis**\n",
    "\n",
    "1.- Análisis descrptivo de las variales de interés:\n",
    "\n",
    "| Variable         | Descripción                                                                                             |\r\n",
    "|------------------|---------------------------------------------------------------------------------------------------------|\r\n",
    "| zona_u_r         | Zona                                                                                                    |\r\n",
    "| eval_gob_1       | Independientemente de su posición política, ¿Ud. aprueba o desaprueba la forma como Sebastián Piñera está conduciendo su gobierno? |\r\n",
    "| iden_pol_2       | Los conceptos de izquierda y derecha son útiles para resumir de una manera muy simplificada lo que piensa la gente en muchos temas. Me gustaría que por favor se clasificara en la escala que va de 1 a 10 donde 1 representa a la izquierda y 10 representa a la derecha. |\r\n",
    "| confianza_8_a    | En general, ¿Ud. diría que se puede confiar en las personas o que hay que ser cuidadoso en el trato con la gente? |\r\n",
    "| interes_pol_1_b  | ¿Cuán interesado está Ud. en la política?                                                              |\r\n",
    "| democracia_21    | ¿Con cuál de las siguientes frases está Ud. más de acuerdo?                                            |\r\n",
    "| democracia_19    | En las democracias se aspira a que haya libertades públicas y privadas y que haya orden público y seguridad ciudadana. En su caso, ¿a cuál valor le da más importancia? |\r\n",
    "| constitucion_4_a | ¿Votó Ud. en el plebiscito sobre una nueva constitución realizado en octubre del año pasado?           |\r\n",
    "| constitucion_4_b | Con respecto a la pregunta \"¿Quiere usted una Nueva Constitución?\", ¿podría decirme por cuál de las opciones votó? |\r\n",
    "| estallido_5      | Con respecto a las manifestaciones que empezaron en octubre 2019, Ud. diría que…                        |\r\n",
    "| sexo             | Sexo                                                                                                   |\r\n",
    "| edad             | ¿Cuál es su edad? Edad exacta                                                                           |\r\n",
    "| bienestar_21     | Considerando todos los ingresos percibidos por su familia, esto es, todos los ingresos que reciben ustedes, ¿cuál de las frases que aparecen en esta tarjeta cree Ud. que se ajusta mejor a su situación de ingresos? |\r\n",
    "| gse              | Grupo socioeconómico                                                                                  |\r\n"
   ]
  },
  {
   "cell_type": "markdown",
   "id": "220c855d-5d33-49d5-b84f-5a288f75a0a1",
   "metadata": {},
   "source": [
    "2.- Transformaciones y recodificaciones funcionales, particularmente eliminación de valores considerados \"no útiles\".\n",
    "\r\n",
    "3.- Creación de un nuevo df que sólo contenga las variables seleccionadas y con las modificaciones realizadas."
   ]
  },
  {
   "cell_type": "code",
   "execution_count": null,
   "id": "d94632b9-a5a3-49e9-ba27-4ec4e4a945ef",
   "metadata": {},
   "outputs": [],
   "source": []
  }
 ],
 "metadata": {
  "kernelspec": {
   "display_name": "pyds_proyecto_final (Python 3.12)",
   "language": "python",
   "name": "pyds_proyecto_final"
  },
  "language_info": {
   "codemirror_mode": {
    "name": "ipython",
    "version": 3
   },
   "file_extension": ".py",
   "mimetype": "text/x-python",
   "name": "python",
   "nbconvert_exporter": "python",
   "pygments_lexer": "ipython3",
   "version": "3.12.4"
  }
 },
 "nbformat": 4,
 "nbformat_minor": 5
}
